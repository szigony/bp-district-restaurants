{
 "cells": [
  {
   "cell_type": "markdown",
   "metadata": {},
   "source": [
    "# Budapest restaurants and cuisines\n",
    "\n",
    "This short project serves as practice with geospatial data, as well as a cool way to visualize the most dominant cuisines in each district of Budapest. Data is obtained via [`OSMNx`](https://osmnx.readthedocs.io/en/stable/index.html), visualizations are created with `matplotlib.pyplot` and `geopandas`.\n",
    "\n",
    "The question I'd like to answer isn't based on the number of restaurants as some restaurants might serve multiple different cuisines.\n",
    "\n",
    "#### Import libraries"
   ]
  },
  {
   "cell_type": "code",
   "execution_count": 1,
   "metadata": {},
   "outputs": [],
   "source": [
    "import pandas as pd\n",
    "import osmnx as ox\n",
    "import inflect # to create the district numbers"
   ]
  },
  {
   "cell_type": "markdown",
   "metadata": {},
   "source": [
    "### Data gathering\n",
    "#### Create a list of the districts of Budapest\n",
    "\n",
    "This will be used to create the map, as well as to get all restaurants through `osmnx`."
   ]
  },
  {
   "cell_type": "code",
   "execution_count": 2,
   "metadata": {},
   "outputs": [],
   "source": [
    "budapest_districts = []\n",
    "for i in range(1, 23):\n",
    "    budapest_districts.append(inflect.engine().ordinal(i) + ' District, Budapest, Hungary')"
   ]
  },
  {
   "cell_type": "markdown",
   "metadata": {},
   "source": [
    "#### Get all restaurants from each district of Budapest\n",
    "\n",
    "* Get all \"restaurant\" and \"fast food\" amenities with `osmnx` for each district\n",
    "* Keep the `unique_id` and `cuisine` columns and add a flag for the districts"
   ]
  },
  {
   "cell_type": "code",
   "execution_count": null,
   "metadata": {},
   "outputs": [],
   "source": [
    "bp_cuisines = []\n",
    "for district in budapest_districts:\n",
    "    amenities = ox.geometries_from_place(district, tags={'amenity': ['restaurant', 'fast_food']})\n",
    "    cuisines = amenities[['unique_id', 'cuisine']]\n",
    "    cuisines['district'] = district\n",
    "    bp_cuisines.append(cuisines)\n",
    "\n",
    "bp_cuisines = pd.concat(bp_cuisines)"
   ]
  },
  {
   "cell_type": "code",
   "execution_count": 3,
   "metadata": {},
   "outputs": [],
   "source": [
    "bp_cuisines = pd.read_csv('bp_cuisines.csv')"
   ]
  },
  {
   "cell_type": "code",
   "execution_count": 4,
   "metadata": {},
   "outputs": [
    {
     "data": {
      "text/html": [
       "<div>\n",
       "<style scoped>\n",
       "    .dataframe tbody tr th:only-of-type {\n",
       "        vertical-align: middle;\n",
       "    }\n",
       "\n",
       "    .dataframe tbody tr th {\n",
       "        vertical-align: top;\n",
       "    }\n",
       "\n",
       "    .dataframe thead th {\n",
       "        text-align: right;\n",
       "    }\n",
       "</style>\n",
       "<table border=\"1\" class=\"dataframe\">\n",
       "  <thead>\n",
       "    <tr style=\"text-align: right;\">\n",
       "      <th></th>\n",
       "      <th>unique_id</th>\n",
       "      <th>cuisine</th>\n",
       "      <th>district</th>\n",
       "    </tr>\n",
       "  </thead>\n",
       "  <tbody>\n",
       "    <tr>\n",
       "      <th>0</th>\n",
       "      <td>node/339287577</td>\n",
       "      <td>burger</td>\n",
       "      <td>1st District, Budapest, Hungary</td>\n",
       "    </tr>\n",
       "    <tr>\n",
       "      <th>1</th>\n",
       "      <td>node/412953469</td>\n",
       "      <td>NaN</td>\n",
       "      <td>1st District, Budapest, Hungary</td>\n",
       "    </tr>\n",
       "    <tr>\n",
       "      <th>2</th>\n",
       "      <td>node/412953471</td>\n",
       "      <td>chinese</td>\n",
       "      <td>1st District, Budapest, Hungary</td>\n",
       "    </tr>\n",
       "    <tr>\n",
       "      <th>3</th>\n",
       "      <td>node/427003905</td>\n",
       "      <td>NaN</td>\n",
       "      <td>1st District, Budapest, Hungary</td>\n",
       "    </tr>\n",
       "    <tr>\n",
       "      <th>4</th>\n",
       "      <td>node/432490789</td>\n",
       "      <td>NaN</td>\n",
       "      <td>1st District, Budapest, Hungary</td>\n",
       "    </tr>\n",
       "  </tbody>\n",
       "</table>\n",
       "</div>"
      ],
      "text/plain": [
       "        unique_id  cuisine                         district\n",
       "0  node/339287577   burger  1st District, Budapest, Hungary\n",
       "1  node/412953469      NaN  1st District, Budapest, Hungary\n",
       "2  node/412953471  chinese  1st District, Budapest, Hungary\n",
       "3  node/427003905      NaN  1st District, Budapest, Hungary\n",
       "4  node/432490789      NaN  1st District, Budapest, Hungary"
      ]
     },
     "execution_count": 4,
     "metadata": {},
     "output_type": "execute_result"
    }
   ],
   "source": [
    "bp_cuisines.head()"
   ]
  },
  {
   "cell_type": "markdown",
   "metadata": {},
   "source": [
    "* There are some `NaN` values, I'll drop those."
   ]
  },
  {
   "cell_type": "code",
   "execution_count": 5,
   "metadata": {},
   "outputs": [],
   "source": [
    "bp_cuisines.dropna(inplace=True)"
   ]
  },
  {
   "cell_type": "code",
   "execution_count": 6,
   "metadata": {},
   "outputs": [
    {
     "data": {
      "text/plain": [
       "array(['burger', 'chinese', 'crepe', 'regional',\n",
       "       'hungarian;breakfast;regional', 'hungarian;italian',\n",
       "       'international', 'hungarian', 'vietnamese', 'korean;asian',\n",
       "       'turkish', 'mexican', 'french', 'italian', 'hungarian;regional',\n",
       "       'cake', 'italian_pizza', 'pizza;sandwich', 'regional;fine_dining',\n",
       "       'burger;pizza;sandwich',\n",
       "       'hungarian;burger;steak_house;coffee_shop;local', 'pizza;regional',\n",
       "       'pizza', 'sandwich', 'greek', 'asian;chinese;deli',\n",
       "       'hungarian;langos;burger', 'italian;pizza', 'japanese',\n",
       "       'pizza;italian', 'italian;olasz;pizza',\n",
       "       'pizza;ice_cream;italian;coffee;soup;pasta;dessert',\n",
       "       'regional;coffee_shop;international', 'seafood',\n",
       "       'burger;sandwich;grilled chicken;chicken slice;chips',\n",
       "       'coffee_shop;pasta;sandwich', 'tapas;spanish', 'bbq', 'hot_dog',\n",
       "       'indian', 'fish;fish_and_chips', 'international;burger',\n",
       "       'hungarian;italian;mediterranean', 'chinese;japanese', 'kebab',\n",
       "       'american', 'hungarian;local', 'chicken', 'syrian',\n",
       "       'asian;korean;japanese',\n",
       "       'asian;middle_eastern;central_asian;indian', 'georgian',\n",
       "       'regional;pizza', 'greek;kebab', 'burger;regional;pizza',\n",
       "       'middle_eastern', 'fusion', 'japanese;sushi', 'asian;regional',\n",
       "       'international;pizza', 'japanese;korean;sushi;thai',\n",
       "       'fish_and_chips;burger;regional', 'fish_and_chips',\n",
       "       'kebab;turkish', 'american;burger;steak_house',\n",
       "       'burger;regional;langos', 'asian;sushi', 'american;barbecue',\n",
       "       'burger;grill;coctail', 'thai', 'greek;burger;kebab',\n",
       "       'regional;langos', 'regional;international', 'burger;regional',\n",
       "       'burger;regional;gyros;pancake', 'regional;pancake',\n",
       "       'hungarian;fried_food;soup;drinks', 'ice_cream;italian;pizza',\n",
       "       'regional;hungarian', 'kebab;pizza;turkish', 'fish',\n",
       "       'italian;pizza;sandwich', 'asian',\n",
       "       'american;burger;regional;steak_house', 'burger;pizza',\n",
       "       'burger;kebab;turkish', 'burger;international;pizza',\n",
       "       'regional;coffee_shop;breakfast;burger', 'burger;langos', 'langos',\n",
       "       'sandwich;coffee_shop;international', 'burger;kebab', 'serbian',\n",
       "       'regional;grill;hungarian;local', 'sushi', 'grill', 'soup',\n",
       "       'steak', 'wine', 'irish;hungarian', 'steak_house', 'pasta',\n",
       "       'sausage', 'waffle',\n",
       "       'regional;grill;burger;hungarian;pizza;tea;noodles', 'lebanese',\n",
       "       'fine_dining', 'fast_food', 'pancake;sandwich', 'spanish',\n",
       "       'noodle', 'japanese;thai', 'breakfast', 'friture;hungarian',\n",
       "       'american;hungarian;grill;steak_house', 'russian',\n",
       "       'falafel;hummus', 'american;hamburger;pizza', 'spanish;tapas',\n",
       "       'hungarian;traditional', 'fine_dining;lebanese', 'meat',\n",
       "       'vietnamese;thai', 'sandwich;pizza', 'turkish;kebab;hungarian',\n",
       "       'italian;pasta;pizza',\n",
       "       'langos;pancake;grill;street_food;alcohol;hungarian;traditional',\n",
       "       'sushi;japanese',\n",
       "       'hungarian;coffee_shop;international;local;regional;grill;fish;chicken',\n",
       "       'regional;french;sandwich', 'burger;chicken',\n",
       "       'pizza;burger;sandwich', 'oriental', 'fish_and_chips;fish',\n",
       "       'bagel;international;hungarian;coffee_shop', 'asian;chinese',\n",
       "       'burger;sandwich', 'japanese;ramen', 'argentinian',\n",
       "       'regional;hungarian;french;international',\n",
       "       'coffee_shop;burger;breakfast;sandwich', 'tapas', 'Hungarian',\n",
       "       'Hungarian_food', 'african',\n",
       "       'barbecue;steak_house;grill;burger;breakfast;hungarian',\n",
       "       'arab;hungarian', 'american;grill;caribbean', 'burger;hot_dog',\n",
       "       'asian;hungarian;coffee_shop;burger', 'sausage;sandwich', 'balkan',\n",
       "       'Turkish;Regional', 'jewish', 'bangladeshi;indian;asian',\n",
       "       'kebab;pizza', 'mediterranean;fine_dining', 'arab;turkish',\n",
       "       'regional;hungarian;local', 'coffee_shop;fine_dining;hungarian',\n",
       "       'korean', 'hamburger', 'breakfast;coffee_shop;snackbar',\n",
       "       'curry;indian', 'israeli', 'japanese;soba',\n",
       "       'fast_food;american;gastropub;waffle', 'regional;jewish', 'arab',\n",
       "       'pakistani;indian', 'hungarian;arab', 'gyros',\n",
       "       'burger;crepe;sandwich', 'american;mexican;pizza',\n",
       "       'afghan;kebab;gyros', 'barbecue', 'american;asian', 'chinese;wok',\n",
       "       'fries', 'scottish', 'hungarian;german', 'persian',\n",
       "       'mediterranean', 'greek;gyros', 'chimney_cake', 'gyros;greek',\n",
       "       'burger;fish_and_chips;hotdog;sausage;hungarian;pancake',\n",
       "       'pizza;burger', 'burger;hungarian;kebab;balkan', 'pizza;pasta',\n",
       "       'international;hungarian',\n",
       "       'hungarian;international;burger;pizza;ice_cream;beer;wine;coffee;tea',\n",
       "       'ice_cream;cafe;beer;gyros,burger', 'burger;hot_dog;gyros',\n",
       "       'burger;breakfast', 'pizza;hungarian;italian',\n",
       "       'international;regional', 'chinese;pasta', 'kebab;gyros',\n",
       "       'fish;american', 'regional;coffee_shop;sandwich',\n",
       "       'grilled chicken;burger;strudel;french fries', 'international;wok',\n",
       "       'soup;sandwich', 'regional;sandwich;chicken',\n",
       "       'burger;grill;tortilla;steak;salad;seafood;dessert;beer;wine;coffee;soft_drink',\n",
       "       'italian;pizza;noodle', 'turkish;kebab', 'gyros;kebab',\n",
       "       'international;sandwich', 'italian;hungarian', 'Lángos',\n",
       "       'hungarian;international', 'hungarian;burger',\n",
       "       'international;ice_cream', 'pizza;pasta;italian',\n",
       "       'international;burger;fish_and_chips',\n",
       "       'barbecue;hungarian;mongolian',\n",
       "       'bbq;soke_riders;fast_food;food_truck', 'strudel',\n",
       "       'burger;mexican', 'greek;thai;hungarian;gyros', 'portuguese',\n",
       "       'asian;vietnamese;thai;ramen', 'arab;vietnamese;mediterranean',\n",
       "       'gyros;pizza', 'greek;mediterranean', 'burger;gyros',\n",
       "       'tea;friture;diner;sandwich;hungarian;international;breakfast;coffee_shop',\n",
       "       'burger;chicken;salads', 'local', 'international;hungarian;french',\n",
       "       'belgian', 'coffee_shop', 'burger;pancake;langos',\n",
       "       'italian_pizza;mediterranean;greek;chicken;pizza;friture;burger;italian;hungarian;grill',\n",
       "       'langosh', 'pizza;kebab',\n",
       "       'pizza;burger;greek;salad;dessert;drinks', 'burger;french',\n",
       "       'grill;friture;coffee_shop;local;pasta;pancake;donut;fish_and_chips;chicken;hungarian',\n",
       "       'regional;italian;hungarian', 'ice_cream', 'gyros,_hamburger,',\n",
       "       'gyros,_hamburger', 'pizza,_hamburger,_traditional', 'magyar',\n",
       "       'german', 'burger;sandwich;kebab', 'seafood;burger',\n",
       "       'burger;sandwich;kebab;turkish', 'burger;greek',\n",
       "       'hungarian;pastry;chimney_cake', 'kebab;gyros;baklava',\n",
       "       'japanese;international;sushi', 'burger;turkish', 'italian;noodle',\n",
       "       'greek;burger', 'pizza;turkish', 'ice_cream;pizza', 'gyros;soup',\n",
       "       'pizza;burger;hungarian;fish', 'langos;hungarian'], dtype=object)"
      ]
     },
     "execution_count": 6,
     "metadata": {},
     "output_type": "execute_result"
    }
   ],
   "source": [
    "bp_cuisines['cuisine'].unique()"
   ]
  },
  {
   "cell_type": "markdown",
   "metadata": {},
   "source": [
    "* There seem to be a lot of unique records where multiple cuisines are concatenated, I'll have to break those out into separate rows."
   ]
  },
  {
   "cell_type": "code",
   "execution_count": 14,
   "metadata": {},
   "outputs": [
    {
     "name": "stdout",
     "output_type": "stream",
     "text": [
      "            unique_id        cuisine                          district\n",
      "136   node/2401121415  pizza;italian   2nd District, Budapest, Hungary\n",
      "708   node/4340423047  pizza;italian   5th District, Budapest, Hungary\n",
      "1886  node/6749969867  pizza;italian  12th District, Budapest, Hungary\n",
      "2125  node/5650234396  pizza;italian  14th District, Budapest, Hungary\n",
      "2277  node/5298281628  pizza;italian  18th District, Budapest, Hungary\n"
     ]
    }
   ],
   "source": [
    "print(bp_cuisines[bp_cuisines['cuisine'] == 'pizza;italian'])"
   ]
  },
  {
   "cell_type": "code",
   "execution_count": 16,
   "metadata": {},
   "outputs": [],
   "source": [
    "cuisine_split = pd.DataFrame(bp_cuisines['cuisine'].str.split(';').tolist(), index=bp_cuisines['unique_id']).stack()\n",
    "cuisine_split = cuisine_split.reset_index([0, 'unique_id'])\n",
    "cuisine_split.columns = ['unique_id', 'cuisine_split']"
   ]
  },
  {
   "cell_type": "markdown",
   "metadata": {},
   "source": [
    "* Now I'll join back this dataframe to the original `bp_cuisines` dataframe."
   ]
  },
  {
   "cell_type": "code",
   "execution_count": 18,
   "metadata": {},
   "outputs": [
    {
     "data": {
      "text/html": [
       "<div>\n",
       "<style scoped>\n",
       "    .dataframe tbody tr th:only-of-type {\n",
       "        vertical-align: middle;\n",
       "    }\n",
       "\n",
       "    .dataframe tbody tr th {\n",
       "        vertical-align: top;\n",
       "    }\n",
       "\n",
       "    .dataframe thead th {\n",
       "        text-align: right;\n",
       "    }\n",
       "</style>\n",
       "<table border=\"1\" class=\"dataframe\">\n",
       "  <thead>\n",
       "    <tr style=\"text-align: right;\">\n",
       "      <th></th>\n",
       "      <th>unique_id</th>\n",
       "      <th>cuisine</th>\n",
       "      <th>district</th>\n",
       "      <th>cuisine_split</th>\n",
       "    </tr>\n",
       "  </thead>\n",
       "  <tbody>\n",
       "    <tr>\n",
       "      <th>0</th>\n",
       "      <td>node/339287577</td>\n",
       "      <td>burger</td>\n",
       "      <td>1st District, Budapest, Hungary</td>\n",
       "      <td>burger</td>\n",
       "    </tr>\n",
       "    <tr>\n",
       "      <th>1</th>\n",
       "      <td>node/412953471</td>\n",
       "      <td>chinese</td>\n",
       "      <td>1st District, Budapest, Hungary</td>\n",
       "      <td>chinese</td>\n",
       "    </tr>\n",
       "    <tr>\n",
       "      <th>2</th>\n",
       "      <td>node/648549895</td>\n",
       "      <td>crepe</td>\n",
       "      <td>1st District, Budapest, Hungary</td>\n",
       "      <td>crepe</td>\n",
       "    </tr>\n",
       "    <tr>\n",
       "      <th>3</th>\n",
       "      <td>node/735178492</td>\n",
       "      <td>regional</td>\n",
       "      <td>1st District, Budapest, Hungary</td>\n",
       "      <td>regional</td>\n",
       "    </tr>\n",
       "    <tr>\n",
       "      <th>4</th>\n",
       "      <td>node/735179122</td>\n",
       "      <td>hungarian;breakfast;regional</td>\n",
       "      <td>1st District, Budapest, Hungary</td>\n",
       "      <td>hungarian</td>\n",
       "    </tr>\n",
       "  </tbody>\n",
       "</table>\n",
       "</div>"
      ],
      "text/plain": [
       "        unique_id                       cuisine  \\\n",
       "0  node/339287577                        burger   \n",
       "1  node/412953471                       chinese   \n",
       "2  node/648549895                         crepe   \n",
       "3  node/735178492                      regional   \n",
       "4  node/735179122  hungarian;breakfast;regional   \n",
       "\n",
       "                          district cuisine_split  \n",
       "0  1st District, Budapest, Hungary        burger  \n",
       "1  1st District, Budapest, Hungary       chinese  \n",
       "2  1st District, Budapest, Hungary         crepe  \n",
       "3  1st District, Budapest, Hungary      regional  \n",
       "4  1st District, Budapest, Hungary     hungarian  "
      ]
     },
     "execution_count": 18,
     "metadata": {},
     "output_type": "execute_result"
    }
   ],
   "source": [
    "bp_cuisines = bp_cuisines.merge(cuisine_split, how='left', on='unique_id')\n",
    "bp_cuisines.head()"
   ]
  },
  {
   "cell_type": "markdown",
   "metadata": {},
   "source": [
    "* I can get rid of the concatenated `cuisine` column and rename the `cuisine_split` column."
   ]
  },
  {
   "cell_type": "code",
   "execution_count": 21,
   "metadata": {},
   "outputs": [
    {
     "data": {
      "text/html": [
       "<div>\n",
       "<style scoped>\n",
       "    .dataframe tbody tr th:only-of-type {\n",
       "        vertical-align: middle;\n",
       "    }\n",
       "\n",
       "    .dataframe tbody tr th {\n",
       "        vertical-align: top;\n",
       "    }\n",
       "\n",
       "    .dataframe thead th {\n",
       "        text-align: right;\n",
       "    }\n",
       "</style>\n",
       "<table border=\"1\" class=\"dataframe\">\n",
       "  <thead>\n",
       "    <tr style=\"text-align: right;\">\n",
       "      <th></th>\n",
       "      <th>unique_id</th>\n",
       "      <th>district</th>\n",
       "      <th>cuisine</th>\n",
       "    </tr>\n",
       "  </thead>\n",
       "  <tbody>\n",
       "    <tr>\n",
       "      <th>0</th>\n",
       "      <td>node/339287577</td>\n",
       "      <td>1st District, Budapest, Hungary</td>\n",
       "      <td>burger</td>\n",
       "    </tr>\n",
       "    <tr>\n",
       "      <th>1</th>\n",
       "      <td>node/412953471</td>\n",
       "      <td>1st District, Budapest, Hungary</td>\n",
       "      <td>chinese</td>\n",
       "    </tr>\n",
       "    <tr>\n",
       "      <th>2</th>\n",
       "      <td>node/648549895</td>\n",
       "      <td>1st District, Budapest, Hungary</td>\n",
       "      <td>crepe</td>\n",
       "    </tr>\n",
       "    <tr>\n",
       "      <th>3</th>\n",
       "      <td>node/735178492</td>\n",
       "      <td>1st District, Budapest, Hungary</td>\n",
       "      <td>regional</td>\n",
       "    </tr>\n",
       "    <tr>\n",
       "      <th>4</th>\n",
       "      <td>node/735179122</td>\n",
       "      <td>1st District, Budapest, Hungary</td>\n",
       "      <td>hungarian</td>\n",
       "    </tr>\n",
       "  </tbody>\n",
       "</table>\n",
       "</div>"
      ],
      "text/plain": [
       "        unique_id                         district    cuisine\n",
       "0  node/339287577  1st District, Budapest, Hungary     burger\n",
       "1  node/412953471  1st District, Budapest, Hungary    chinese\n",
       "2  node/648549895  1st District, Budapest, Hungary      crepe\n",
       "3  node/735178492  1st District, Budapest, Hungary   regional\n",
       "4  node/735179122  1st District, Budapest, Hungary  hungarian"
      ]
     },
     "execution_count": 21,
     "metadata": {},
     "output_type": "execute_result"
    }
   ],
   "source": [
    "bp_cuisines = bp_cuisines.drop(columns=['cuisine']).rename(columns={'cuisine_split': 'cuisine'})\n",
    "bp_cuisines.head()"
   ]
  },
  {
   "cell_type": "code",
   "execution_count": 30,
   "metadata": {},
   "outputs": [
    {
     "name": "stdout",
     "output_type": "stream",
     "text": [
      "There are 1436 different restaurants in the dataset that serve 1854 cuisines altogether, out of which 133 is unique.\n"
     ]
    }
   ],
   "source": [
    "print(\n",
    "    'There are {0} different restaurants in the dataset that serve {1} cuisines altogether, out of which {2} is unique.'.format(\n",
    "        len(bp_cuisines['unique_id'].unique()), \n",
    "        bp_cuisines.shape[0], \n",
    "        len(bp_cuisines['cuisine'].unique())\n",
    "    )\n",
    ")"
   ]
  },
  {
   "cell_type": "code",
   "execution_count": null,
   "metadata": {},
   "outputs": [],
   "source": [
    "bp_cuisine_counts = bp_cuisines.groupby(['district', 'cuisine']).size().to_frame(name='count').reset_index()"
   ]
  },
  {
   "cell_type": "code",
   "execution_count": null,
   "metadata": {},
   "outputs": [],
   "source": [
    "bp_cuisine_counts[bp_cuisine_counts['district'] == '5th District, Budapest, Hungary'].sort_values('count', ascending=False)"
   ]
  },
  {
   "cell_type": "code",
   "execution_count": null,
   "metadata": {},
   "outputs": [],
   "source": [
    "max_indices = bp_cuisine_counts.groupby('district')['count'].transform(max) == bp_cuisine_counts['count']\n",
    "bp_cuisine_counts[max_indices].sort_values('district')"
   ]
  },
  {
   "cell_type": "markdown",
   "metadata": {},
   "source": [
    "### Visualization\n",
    "#### Plot\n",
    "Plot the districts boundaries of Budapest."
   ]
  },
  {
   "cell_type": "code",
   "execution_count": null,
   "metadata": {},
   "outputs": [],
   "source": [
    "places = ox.geocode_to_gdf(budapest_districts)\n",
    "places = ox.project_gdf(places)\n",
    "ax = places.plot()\n",
    "_ = ax.axis('off')"
   ]
  }
 ],
 "metadata": {
  "kernelspec": {
   "display_name": "Python 3",
   "language": "python",
   "name": "python3"
  },
  "language_info": {
   "codemirror_mode": {
    "name": "ipython",
    "version": 3
   },
   "file_extension": ".py",
   "mimetype": "text/x-python",
   "name": "python",
   "nbconvert_exporter": "python",
   "pygments_lexer": "ipython3",
   "version": "3.9.1"
  }
 },
 "nbformat": 4,
 "nbformat_minor": 2
}
