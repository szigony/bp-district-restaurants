{
 "cells": [
  {
   "cell_type": "markdown",
   "metadata": {},
   "source": [
    "# Budapest restaurants and cuisines\n",
    "\n",
    "This short project serves as practice with geospatial data, as well as a cool way to visualize the most dominant cuisines in each district of Budapest. Data is obtained via [`OSMNx`](https://osmnx.readthedocs.io/en/stable/index.html), visualizations are created with `matplotlib.pyplot`.\n",
    "\n",
    "The question I'd like to answer isn't based on the number of restaurants as some restaurants might serve multiple different cuisines.\n",
    "\n",
    "#### Import libraries"
   ]
  },
  {
   "cell_type": "code",
   "execution_count": 1,
   "metadata": {},
   "outputs": [],
   "source": [
    "import pandas as pd\n",
    "import osmnx as ox\n",
    "import inflect # to create the district numbers\n",
    "import matplotlib.pyplot as plt"
   ]
  },
  {
   "cell_type": "markdown",
   "metadata": {},
   "source": [
    "### Data gathering\n",
    "#### Create a list of the districts of Budapest\n",
    "\n",
    "This will be used to create the map, as well as to get all restaurants through `osmnx`. There are 23 districts in Budapest."
   ]
  },
  {
   "cell_type": "code",
   "execution_count": 2,
   "metadata": {},
   "outputs": [],
   "source": [
    "budapest_districts = []\n",
    "for i in range(1, 24):\n",
    "    budapest_districts.append(inflect.engine().ordinal(i) + ' District, Budapest, Hungary')"
   ]
  },
  {
   "cell_type": "code",
   "execution_count": 3,
   "metadata": {},
   "outputs": [
    {
     "name": "stdout",
     "output_type": "stream",
     "text": [
      "['1st District, Budapest, Hungary', '2nd District, Budapest, Hungary', '3rd District, Budapest, Hungary', '4th District, Budapest, Hungary', '5th District, Budapest, Hungary', '6th District, Budapest, Hungary', '7th District, Budapest, Hungary', '8th District, Budapest, Hungary', '9th District, Budapest, Hungary', '10th District, Budapest, Hungary', '11th District, Budapest, Hungary', '12th District, Budapest, Hungary', '13th District, Budapest, Hungary', '14th District, Budapest, Hungary', '15th District, Budapest, Hungary', '16th District, Budapest, Hungary', '17th District, Budapest, Hungary', '18th District, Budapest, Hungary', '19th District, Budapest, Hungary', '20th District, Budapest, Hungary', '21st District, Budapest, Hungary', '22nd District, Budapest, Hungary', '23rd District, Budapest, Hungary']\n"
     ]
    }
   ],
   "source": [
    "print(budapest_districts)"
   ]
  },
  {
   "cell_type": "markdown",
   "metadata": {},
   "source": [
    "#### Get all restaurants from each district of Budapest\n",
    "\n",
    "* Get all \"restaurant\" and \"fast food\" amenities with `osmnx` for each district\n",
    "* Keep the `unique_id` and `cuisine` columns and add a flag for the districts"
   ]
  },
  {
   "cell_type": "code",
   "execution_count": 4,
   "metadata": {
    "collapsed": true
   },
   "outputs": [
    {
     "name": "stderr",
     "output_type": "stream",
     "text": [
      "<ipython-input-4-8d5a34f50061>:5: SettingWithCopyWarning: \n",
      "A value is trying to be set on a copy of a slice from a DataFrame.\n",
      "Try using .loc[row_indexer,col_indexer] = value instead\n",
      "\n",
      "See the caveats in the documentation: https://pandas.pydata.org/pandas-docs/stable/user_guide/indexing.html#returning-a-view-versus-a-copy\n",
      "  cuisines['district'] = district\n",
      "<ipython-input-4-8d5a34f50061>:5: SettingWithCopyWarning: \n",
      "A value is trying to be set on a copy of a slice from a DataFrame.\n",
      "Try using .loc[row_indexer,col_indexer] = value instead\n",
      "\n",
      "See the caveats in the documentation: https://pandas.pydata.org/pandas-docs/stable/user_guide/indexing.html#returning-a-view-versus-a-copy\n",
      "  cuisines['district'] = district\n",
      "<ipython-input-4-8d5a34f50061>:5: SettingWithCopyWarning: \n",
      "A value is trying to be set on a copy of a slice from a DataFrame.\n",
      "Try using .loc[row_indexer,col_indexer] = value instead\n",
      "\n",
      "See the caveats in the documentation: https://pandas.pydata.org/pandas-docs/stable/user_guide/indexing.html#returning-a-view-versus-a-copy\n",
      "  cuisines['district'] = district\n",
      "<ipython-input-4-8d5a34f50061>:5: SettingWithCopyWarning: \n",
      "A value is trying to be set on a copy of a slice from a DataFrame.\n",
      "Try using .loc[row_indexer,col_indexer] = value instead\n",
      "\n",
      "See the caveats in the documentation: https://pandas.pydata.org/pandas-docs/stable/user_guide/indexing.html#returning-a-view-versus-a-copy\n",
      "  cuisines['district'] = district\n",
      "<ipython-input-4-8d5a34f50061>:5: SettingWithCopyWarning: \n",
      "A value is trying to be set on a copy of a slice from a DataFrame.\n",
      "Try using .loc[row_indexer,col_indexer] = value instead\n",
      "\n",
      "See the caveats in the documentation: https://pandas.pydata.org/pandas-docs/stable/user_guide/indexing.html#returning-a-view-versus-a-copy\n",
      "  cuisines['district'] = district\n",
      "<ipython-input-4-8d5a34f50061>:5: SettingWithCopyWarning: \n",
      "A value is trying to be set on a copy of a slice from a DataFrame.\n",
      "Try using .loc[row_indexer,col_indexer] = value instead\n",
      "\n",
      "See the caveats in the documentation: https://pandas.pydata.org/pandas-docs/stable/user_guide/indexing.html#returning-a-view-versus-a-copy\n",
      "  cuisines['district'] = district\n",
      "<ipython-input-4-8d5a34f50061>:5: SettingWithCopyWarning: \n",
      "A value is trying to be set on a copy of a slice from a DataFrame.\n",
      "Try using .loc[row_indexer,col_indexer] = value instead\n",
      "\n",
      "See the caveats in the documentation: https://pandas.pydata.org/pandas-docs/stable/user_guide/indexing.html#returning-a-view-versus-a-copy\n",
      "  cuisines['district'] = district\n",
      "<ipython-input-4-8d5a34f50061>:5: SettingWithCopyWarning: \n",
      "A value is trying to be set on a copy of a slice from a DataFrame.\n",
      "Try using .loc[row_indexer,col_indexer] = value instead\n",
      "\n",
      "See the caveats in the documentation: https://pandas.pydata.org/pandas-docs/stable/user_guide/indexing.html#returning-a-view-versus-a-copy\n",
      "  cuisines['district'] = district\n",
      "<ipython-input-4-8d5a34f50061>:5: SettingWithCopyWarning: \n",
      "A value is trying to be set on a copy of a slice from a DataFrame.\n",
      "Try using .loc[row_indexer,col_indexer] = value instead\n",
      "\n",
      "See the caveats in the documentation: https://pandas.pydata.org/pandas-docs/stable/user_guide/indexing.html#returning-a-view-versus-a-copy\n",
      "  cuisines['district'] = district\n",
      "<ipython-input-4-8d5a34f50061>:5: SettingWithCopyWarning: \n",
      "A value is trying to be set on a copy of a slice from a DataFrame.\n",
      "Try using .loc[row_indexer,col_indexer] = value instead\n",
      "\n",
      "See the caveats in the documentation: https://pandas.pydata.org/pandas-docs/stable/user_guide/indexing.html#returning-a-view-versus-a-copy\n",
      "  cuisines['district'] = district\n",
      "<ipython-input-4-8d5a34f50061>:5: SettingWithCopyWarning: \n",
      "A value is trying to be set on a copy of a slice from a DataFrame.\n",
      "Try using .loc[row_indexer,col_indexer] = value instead\n",
      "\n",
      "See the caveats in the documentation: https://pandas.pydata.org/pandas-docs/stable/user_guide/indexing.html#returning-a-view-versus-a-copy\n",
      "  cuisines['district'] = district\n",
      "<ipython-input-4-8d5a34f50061>:5: SettingWithCopyWarning: \n",
      "A value is trying to be set on a copy of a slice from a DataFrame.\n",
      "Try using .loc[row_indexer,col_indexer] = value instead\n",
      "\n",
      "See the caveats in the documentation: https://pandas.pydata.org/pandas-docs/stable/user_guide/indexing.html#returning-a-view-versus-a-copy\n",
      "  cuisines['district'] = district\n",
      "<ipython-input-4-8d5a34f50061>:5: SettingWithCopyWarning: \n",
      "A value is trying to be set on a copy of a slice from a DataFrame.\n",
      "Try using .loc[row_indexer,col_indexer] = value instead\n",
      "\n",
      "See the caveats in the documentation: https://pandas.pydata.org/pandas-docs/stable/user_guide/indexing.html#returning-a-view-versus-a-copy\n",
      "  cuisines['district'] = district\n",
      "<ipython-input-4-8d5a34f50061>:5: SettingWithCopyWarning: \n",
      "A value is trying to be set on a copy of a slice from a DataFrame.\n",
      "Try using .loc[row_indexer,col_indexer] = value instead\n",
      "\n",
      "See the caveats in the documentation: https://pandas.pydata.org/pandas-docs/stable/user_guide/indexing.html#returning-a-view-versus-a-copy\n",
      "  cuisines['district'] = district\n",
      "<ipython-input-4-8d5a34f50061>:5: SettingWithCopyWarning: \n",
      "A value is trying to be set on a copy of a slice from a DataFrame.\n",
      "Try using .loc[row_indexer,col_indexer] = value instead\n",
      "\n",
      "See the caveats in the documentation: https://pandas.pydata.org/pandas-docs/stable/user_guide/indexing.html#returning-a-view-versus-a-copy\n",
      "  cuisines['district'] = district\n",
      "<ipython-input-4-8d5a34f50061>:5: SettingWithCopyWarning: \n",
      "A value is trying to be set on a copy of a slice from a DataFrame.\n",
      "Try using .loc[row_indexer,col_indexer] = value instead\n",
      "\n",
      "See the caveats in the documentation: https://pandas.pydata.org/pandas-docs/stable/user_guide/indexing.html#returning-a-view-versus-a-copy\n",
      "  cuisines['district'] = district\n",
      "<ipython-input-4-8d5a34f50061>:5: SettingWithCopyWarning: \n",
      "A value is trying to be set on a copy of a slice from a DataFrame.\n",
      "Try using .loc[row_indexer,col_indexer] = value instead\n",
      "\n",
      "See the caveats in the documentation: https://pandas.pydata.org/pandas-docs/stable/user_guide/indexing.html#returning-a-view-versus-a-copy\n",
      "  cuisines['district'] = district\n",
      "<ipython-input-4-8d5a34f50061>:5: SettingWithCopyWarning: \n",
      "A value is trying to be set on a copy of a slice from a DataFrame.\n",
      "Try using .loc[row_indexer,col_indexer] = value instead\n",
      "\n",
      "See the caveats in the documentation: https://pandas.pydata.org/pandas-docs/stable/user_guide/indexing.html#returning-a-view-versus-a-copy\n",
      "  cuisines['district'] = district\n",
      "<ipython-input-4-8d5a34f50061>:5: SettingWithCopyWarning: \n",
      "A value is trying to be set on a copy of a slice from a DataFrame.\n",
      "Try using .loc[row_indexer,col_indexer] = value instead\n",
      "\n",
      "See the caveats in the documentation: https://pandas.pydata.org/pandas-docs/stable/user_guide/indexing.html#returning-a-view-versus-a-copy\n",
      "  cuisines['district'] = district\n",
      "<ipython-input-4-8d5a34f50061>:5: SettingWithCopyWarning: \n",
      "A value is trying to be set on a copy of a slice from a DataFrame.\n",
      "Try using .loc[row_indexer,col_indexer] = value instead\n",
      "\n",
      "See the caveats in the documentation: https://pandas.pydata.org/pandas-docs/stable/user_guide/indexing.html#returning-a-view-versus-a-copy\n",
      "  cuisines['district'] = district\n",
      "<ipython-input-4-8d5a34f50061>:5: SettingWithCopyWarning: \n",
      "A value is trying to be set on a copy of a slice from a DataFrame.\n",
      "Try using .loc[row_indexer,col_indexer] = value instead\n",
      "\n",
      "See the caveats in the documentation: https://pandas.pydata.org/pandas-docs/stable/user_guide/indexing.html#returning-a-view-versus-a-copy\n",
      "  cuisines['district'] = district\n",
      "<ipython-input-4-8d5a34f50061>:5: SettingWithCopyWarning: \n",
      "A value is trying to be set on a copy of a slice from a DataFrame.\n",
      "Try using .loc[row_indexer,col_indexer] = value instead\n",
      "\n",
      "See the caveats in the documentation: https://pandas.pydata.org/pandas-docs/stable/user_guide/indexing.html#returning-a-view-versus-a-copy\n",
      "  cuisines['district'] = district\n",
      "<ipython-input-4-8d5a34f50061>:5: SettingWithCopyWarning: \n",
      "A value is trying to be set on a copy of a slice from a DataFrame.\n",
      "Try using .loc[row_indexer,col_indexer] = value instead\n",
      "\n",
      "See the caveats in the documentation: https://pandas.pydata.org/pandas-docs/stable/user_guide/indexing.html#returning-a-view-versus-a-copy\n",
      "  cuisines['district'] = district\n"
     ]
    }
   ],
   "source": [
    "bp_cuisines = []\n",
    "for district in budapest_districts:\n",
    "    amenities = ox.geometries_from_place(district, tags={'amenity': ['restaurant', 'fast_food']})\n",
    "    cuisines = amenities[['unique_id', 'cuisine']]\n",
    "    cuisines['district'] = district\n",
    "    bp_cuisines.append(cuisines)\n",
    "\n",
    "bp_cuisines = pd.concat(bp_cuisines)\n",
    "bp_cuisines.to_csv('bp_cuisines.csv')"
   ]
  },
  {
   "cell_type": "code",
   "execution_count": 5,
   "metadata": {},
   "outputs": [
    {
     "name": "stderr",
     "output_type": "stream",
     "text": [
      "C:\\Users\\szige\\anaconda3\\envs\\ox\\lib\\site-packages\\ipykernel\\ipkernel.py:283: DeprecationWarning: `should_run_async` will not call `transform_cell` automatically in the future. Please pass the result to `transformed_cell` argument and any exception that happen during thetransform in `preprocessing_exc_tuple` in IPython 7.17 and above.\n",
      "  and should_run_async(code)\n"
     ]
    },
    {
     "data": {
      "text/html": [
       "<div>\n",
       "<style scoped>\n",
       "    .dataframe tbody tr th:only-of-type {\n",
       "        vertical-align: middle;\n",
       "    }\n",
       "\n",
       "    .dataframe tbody tr th {\n",
       "        vertical-align: top;\n",
       "    }\n",
       "\n",
       "    .dataframe thead th {\n",
       "        text-align: right;\n",
       "    }\n",
       "</style>\n",
       "<table border=\"1\" class=\"dataframe\">\n",
       "  <thead>\n",
       "    <tr style=\"text-align: right;\">\n",
       "      <th></th>\n",
       "      <th>Unnamed: 0</th>\n",
       "      <th>unique_id</th>\n",
       "      <th>cuisine</th>\n",
       "      <th>district</th>\n",
       "    </tr>\n",
       "  </thead>\n",
       "  <tbody>\n",
       "    <tr>\n",
       "      <th>0</th>\n",
       "      <td>0</td>\n",
       "      <td>node/339287577</td>\n",
       "      <td>burger</td>\n",
       "      <td>1st District, Budapest, Hungary</td>\n",
       "    </tr>\n",
       "    <tr>\n",
       "      <th>1</th>\n",
       "      <td>1</td>\n",
       "      <td>node/412953469</td>\n",
       "      <td>NaN</td>\n",
       "      <td>1st District, Budapest, Hungary</td>\n",
       "    </tr>\n",
       "    <tr>\n",
       "      <th>2</th>\n",
       "      <td>2</td>\n",
       "      <td>node/412953471</td>\n",
       "      <td>chinese</td>\n",
       "      <td>1st District, Budapest, Hungary</td>\n",
       "    </tr>\n",
       "    <tr>\n",
       "      <th>3</th>\n",
       "      <td>3</td>\n",
       "      <td>node/427003905</td>\n",
       "      <td>NaN</td>\n",
       "      <td>1st District, Budapest, Hungary</td>\n",
       "    </tr>\n",
       "    <tr>\n",
       "      <th>4</th>\n",
       "      <td>4</td>\n",
       "      <td>node/432490789</td>\n",
       "      <td>NaN</td>\n",
       "      <td>1st District, Budapest, Hungary</td>\n",
       "    </tr>\n",
       "  </tbody>\n",
       "</table>\n",
       "</div>"
      ],
      "text/plain": [
       "   Unnamed: 0       unique_id  cuisine                         district\n",
       "0           0  node/339287577   burger  1st District, Budapest, Hungary\n",
       "1           1  node/412953469      NaN  1st District, Budapest, Hungary\n",
       "2           2  node/412953471  chinese  1st District, Budapest, Hungary\n",
       "3           3  node/427003905      NaN  1st District, Budapest, Hungary\n",
       "4           4  node/432490789      NaN  1st District, Budapest, Hungary"
      ]
     },
     "execution_count": 5,
     "metadata": {},
     "output_type": "execute_result"
    }
   ],
   "source": [
    "bp_cuisines = pd.read_csv('bp_cuisines.csv')\n",
    "bp_cuisines.head()"
   ]
  },
  {
   "cell_type": "markdown",
   "metadata": {},
   "source": [
    "* There are some `NaN` values, I'll drop those."
   ]
  },
  {
   "cell_type": "code",
   "execution_count": 6,
   "metadata": {},
   "outputs": [
    {
     "name": "stderr",
     "output_type": "stream",
     "text": [
      "C:\\Users\\szige\\anaconda3\\envs\\ox\\lib\\site-packages\\ipykernel\\ipkernel.py:283: DeprecationWarning: `should_run_async` will not call `transform_cell` automatically in the future. Please pass the result to `transformed_cell` argument and any exception that happen during thetransform in `preprocessing_exc_tuple` in IPython 7.17 and above.\n",
      "  and should_run_async(code)\n"
     ]
    }
   ],
   "source": [
    "bp_cuisines.dropna(inplace=True)"
   ]
  },
  {
   "cell_type": "code",
   "execution_count": 7,
   "metadata": {},
   "outputs": [
    {
     "name": "stdout",
     "output_type": "stream",
     "text": [
      "['Hungarian', 'Hungarian_food', 'Lángos', 'Turkish;Regional', 'afghan;kebab;gyros', 'african', 'american', 'american;asian', 'american;barbecue', 'american;burger;regional;steak_house', 'american;burger;steak_house', 'american;grill;caribbean', 'american;hamburger;pizza', 'american;hungarian;grill;steak_house', 'american;mexican;pizza', 'arab', 'arab;hungarian', 'arab;turkish', 'arab;vietnamese;mediterranean', 'argentinian', 'asian', 'asian;chinese', 'asian;chinese;deli', 'asian;hungarian;coffee_shop;burger', 'asian;korean;japanese', 'asian;middle_eastern;central_asian;indian', 'asian;regional', 'asian;sushi', 'asian;vietnamese;thai;ramen', 'bagel;international;hungarian;coffee_shop', 'balkan', 'bangladeshi;indian;asian', 'barbecue', 'barbecue;hungarian;mongolian', 'barbecue;steak_house;grill;burger;breakfast;hungarian', 'bbq', 'bbq;soke_riders;fast_food;food_truck', 'belgian', 'breakfast', 'breakfast;coffee_shop;snackbar', 'burger', 'burger;breakfast', 'burger;chicken', 'burger;chicken;salads', 'burger;crepe;sandwich', 'burger;fish_and_chips;hotdog;sausage;hungarian;pancake', 'burger;french', 'burger;greek', 'burger;grill;coctail', 'burger;grill;tortilla;steak;salad;seafood;dessert;beer;wine;coffee;soft_drink', 'burger;gyros', 'burger;hot_dog', 'burger;hot_dog;gyros', 'burger;hungarian;kebab;balkan', 'burger;international;pizza', 'burger;kebab', 'burger;kebab;turkish', 'burger;langos', 'burger;mexican', 'burger;pancake;langos', 'burger;pizza', 'burger;pizza;sandwich', 'burger;regional', 'burger;regional;gyros;pancake', 'burger;regional;langos', 'burger;regional;pizza', 'burger;sandwich', 'burger;sandwich;grilled chicken;chicken slice;chips', 'burger;sandwich;kebab', 'burger;sandwich;kebab;turkish', 'burger;turkish', 'cake', 'chicken', 'chimney_cake', 'chinese', 'chinese;japanese', 'chinese;pasta', 'chinese;wok', 'coffee_shop', 'coffee_shop;burger;breakfast;sandwich', 'coffee_shop;fine_dining;hungarian', 'coffee_shop;pasta;sandwich', 'crepe', 'curry;indian', 'falafel;hummus', 'fast_food', 'fast_food;american;gastropub;waffle', 'fine_dining', 'fine_dining;lebanese', 'fish', 'fish;american', 'fish;fish_and_chips', 'fish_and_chips', 'fish_and_chips;burger;regional', 'fish_and_chips;fish', 'french', 'fries', 'friture;hungarian', 'fusion', 'georgian', 'german', 'greek', 'greek;burger', 'greek;burger;kebab', 'greek;gyros', 'greek;kebab', 'greek;mediterranean', 'greek;thai;hungarian;gyros', 'grill', 'grill;friture;coffee_shop;local;pasta;pancake;donut;fish_and_chips;chicken;hungarian', 'grilled chicken;burger;strudel;french fries', 'gyros', 'gyros,_hamburger', 'gyros,_hamburger,', 'gyros;greek', 'gyros;kebab', 'gyros;pizza', 'gyros;soup', 'hamburger', 'hot_dog', 'hungarian', 'hungarian;arab', 'hungarian;breakfast;regional', 'hungarian;burger', 'hungarian;burger;steak_house;coffee_shop;local', 'hungarian;coffee_shop;international;local;regional;grill;fish;chicken', 'hungarian;fried_food;soup;drinks', 'hungarian;german', 'hungarian;international', 'hungarian;international;burger;pizza;ice_cream;beer;wine;coffee;tea', 'hungarian;italian', 'hungarian;italian;mediterranean', 'hungarian;langos;burger', 'hungarian;local', 'hungarian;pastry;chimney_cake', 'hungarian;regional', 'hungarian;traditional', 'ice_cream', 'ice_cream;cafe;beer;gyros,burger', 'ice_cream;italian;pizza', 'ice_cream;pizza', 'indian', 'international', 'international;burger', 'international;burger;fish_and_chips', 'international;hungarian', 'international;hungarian;french', 'international;ice_cream', 'international;pizza', 'international;regional', 'international;sandwich', 'international;wok', 'irish;hungarian', 'israeli', 'italian', 'italian;hungarian', 'italian;noodle', 'italian;olasz;pizza', 'italian;pasta;pizza', 'italian;pizza', 'italian;pizza;noodle', 'italian;pizza;sandwich', 'italian_pizza', 'italian_pizza;mediterranean;greek;chicken;pizza;friture;burger;italian;hungarian;grill', 'japanese', 'japanese;international;sushi', 'japanese;korean;sushi;thai', 'japanese;ramen', 'japanese;soba', 'japanese;sushi', 'japanese;thai', 'jewish', 'kebab', 'kebab;gyros', 'kebab;gyros;baklava', 'kebab;pizza', 'kebab;pizza;turkish', 'kebab;turkish', 'korean', 'korean;asian', 'langos', 'langos;hungarian', 'langos;pancake;grill;street_food;alcohol;hungarian;traditional', 'langosh', 'lebanese', 'local', 'magyar', 'meat', 'mediterranean', 'mediterranean;fine_dining', 'mexican', 'middle_eastern', 'noodle', 'oriental', 'pakistani;indian', 'pancake;sandwich', 'pasta', 'persian', 'pizza', 'pizza,_hamburger,_traditional', 'pizza;burger', 'pizza;burger;greek;salad;dessert;drinks', 'pizza;burger;hungarian;fish', 'pizza;burger;sandwich', 'pizza;hungarian;italian', 'pizza;ice_cream;italian;coffee;soup;pasta;dessert', 'pizza;italian', 'pizza;kebab', 'pizza;pasta', 'pizza;pasta;italian', 'pizza;regional', 'pizza;sandwich', 'pizza;turkish', 'portuguese', 'regional', 'regional;coffee_shop;breakfast;burger', 'regional;coffee_shop;international', 'regional;coffee_shop;sandwich', 'regional;fine_dining', 'regional;french;sandwich', 'regional;grill;burger;hungarian;pizza;tea;noodles', 'regional;grill;hungarian;local', 'regional;hungarian', 'regional;hungarian;french;international', 'regional;hungarian;local', 'regional;international', 'regional;italian;hungarian', 'regional;jewish', 'regional;langos', 'regional;pancake', 'regional;pizza', 'regional;sandwich;chicken', 'russian', 'sandwich', 'sandwich;coffee_shop;international', 'sandwich;pizza', 'sausage', 'sausage;sandwich', 'scottish', 'seafood', 'seafood;burger', 'serbian', 'soup', 'soup;sandwich', 'spanish', 'spanish;tapas', 'steak', 'steak_house', 'strudel', 'sushi', 'sushi;japanese', 'syrian', 'tapas', 'tapas;spanish', 'tea;friture;diner;sandwich;hungarian;international;breakfast;coffee_shop', 'thai', 'turkish', 'turkish;kebab', 'turkish;kebab;hungarian', 'vietnamese', 'vietnamese;thai', 'waffle', 'wine']\n"
     ]
    },
    {
     "name": "stderr",
     "output_type": "stream",
     "text": [
      "C:\\Users\\szige\\anaconda3\\envs\\ox\\lib\\site-packages\\ipykernel\\ipkernel.py:283: DeprecationWarning: `should_run_async` will not call `transform_cell` automatically in the future. Please pass the result to `transformed_cell` argument and any exception that happen during thetransform in `preprocessing_exc_tuple` in IPython 7.17 and above.\n",
      "  and should_run_async(code)\n"
     ]
    }
   ],
   "source": [
    "print(sorted(bp_cuisines['cuisine'].unique()))"
   ]
  },
  {
   "cell_type": "markdown",
   "metadata": {},
   "source": [
    "* There seem to be a lot of unique records where multiple cuisines are concatenated, I'll have to break those out into separate rows."
   ]
  },
  {
   "cell_type": "code",
   "execution_count": 8,
   "metadata": {},
   "outputs": [
    {
     "name": "stdout",
     "output_type": "stream",
     "text": [
      "      Unnamed: 0        unique_id        cuisine  \\\n",
      "136           41  node/2401121415  pizza;italian   \n",
      "708          232  node/4340423047  pizza;italian   \n",
      "1886          45  node/6749969867  pizza;italian   \n",
      "2125          75  node/5650234396  pizza;italian   \n",
      "2277          13  node/5298281628  pizza;italian   \n",
      "\n",
      "                              district  \n",
      "136    2nd District, Budapest, Hungary  \n",
      "708    5th District, Budapest, Hungary  \n",
      "1886  12th District, Budapest, Hungary  \n",
      "2125  14th District, Budapest, Hungary  \n",
      "2277  18th District, Budapest, Hungary  \n"
     ]
    }
   ],
   "source": [
    "print(bp_cuisines[bp_cuisines['cuisine'] == 'pizza;italian'])"
   ]
  },
  {
   "cell_type": "code",
   "execution_count": 9,
   "metadata": {},
   "outputs": [
    {
     "name": "stderr",
     "output_type": "stream",
     "text": [
      "C:\\Users\\szige\\anaconda3\\envs\\ox\\lib\\site-packages\\ipykernel\\ipkernel.py:283: DeprecationWarning: `should_run_async` will not call `transform_cell` automatically in the future. Please pass the result to `transformed_cell` argument and any exception that happen during thetransform in `preprocessing_exc_tuple` in IPython 7.17 and above.\n",
      "  and should_run_async(code)\n"
     ]
    }
   ],
   "source": [
    "cuisine_split = pd.DataFrame(bp_cuisines['cuisine'].str.split(';').tolist(), index=bp_cuisines['unique_id']).stack()\n",
    "cuisine_split = cuisine_split.reset_index([0, 'unique_id'])\n",
    "cuisine_split.columns = ['unique_id', 'cuisine_split']"
   ]
  },
  {
   "cell_type": "markdown",
   "metadata": {},
   "source": [
    "* Now I'll join back this dataframe to the original `bp_cuisines` dataframe."
   ]
  },
  {
   "cell_type": "code",
   "execution_count": 10,
   "metadata": {},
   "outputs": [
    {
     "data": {
      "text/html": [
       "<div>\n",
       "<style scoped>\n",
       "    .dataframe tbody tr th:only-of-type {\n",
       "        vertical-align: middle;\n",
       "    }\n",
       "\n",
       "    .dataframe tbody tr th {\n",
       "        vertical-align: top;\n",
       "    }\n",
       "\n",
       "    .dataframe thead th {\n",
       "        text-align: right;\n",
       "    }\n",
       "</style>\n",
       "<table border=\"1\" class=\"dataframe\">\n",
       "  <thead>\n",
       "    <tr style=\"text-align: right;\">\n",
       "      <th></th>\n",
       "      <th>Unnamed: 0</th>\n",
       "      <th>unique_id</th>\n",
       "      <th>cuisine</th>\n",
       "      <th>district</th>\n",
       "      <th>cuisine_split</th>\n",
       "    </tr>\n",
       "  </thead>\n",
       "  <tbody>\n",
       "    <tr>\n",
       "      <th>0</th>\n",
       "      <td>0</td>\n",
       "      <td>node/339287577</td>\n",
       "      <td>burger</td>\n",
       "      <td>1st District, Budapest, Hungary</td>\n",
       "      <td>burger</td>\n",
       "    </tr>\n",
       "    <tr>\n",
       "      <th>1</th>\n",
       "      <td>2</td>\n",
       "      <td>node/412953471</td>\n",
       "      <td>chinese</td>\n",
       "      <td>1st District, Budapest, Hungary</td>\n",
       "      <td>chinese</td>\n",
       "    </tr>\n",
       "    <tr>\n",
       "      <th>2</th>\n",
       "      <td>5</td>\n",
       "      <td>node/648549895</td>\n",
       "      <td>crepe</td>\n",
       "      <td>1st District, Budapest, Hungary</td>\n",
       "      <td>crepe</td>\n",
       "    </tr>\n",
       "    <tr>\n",
       "      <th>3</th>\n",
       "      <td>8</td>\n",
       "      <td>node/735178492</td>\n",
       "      <td>regional</td>\n",
       "      <td>1st District, Budapest, Hungary</td>\n",
       "      <td>regional</td>\n",
       "    </tr>\n",
       "    <tr>\n",
       "      <th>4</th>\n",
       "      <td>9</td>\n",
       "      <td>node/735179122</td>\n",
       "      <td>hungarian;breakfast;regional</td>\n",
       "      <td>1st District, Budapest, Hungary</td>\n",
       "      <td>hungarian</td>\n",
       "    </tr>\n",
       "  </tbody>\n",
       "</table>\n",
       "</div>"
      ],
      "text/plain": [
       "   Unnamed: 0       unique_id                       cuisine  \\\n",
       "0           0  node/339287577                        burger   \n",
       "1           2  node/412953471                       chinese   \n",
       "2           5  node/648549895                         crepe   \n",
       "3           8  node/735178492                      regional   \n",
       "4           9  node/735179122  hungarian;breakfast;regional   \n",
       "\n",
       "                          district cuisine_split  \n",
       "0  1st District, Budapest, Hungary        burger  \n",
       "1  1st District, Budapest, Hungary       chinese  \n",
       "2  1st District, Budapest, Hungary         crepe  \n",
       "3  1st District, Budapest, Hungary      regional  \n",
       "4  1st District, Budapest, Hungary     hungarian  "
      ]
     },
     "execution_count": 10,
     "metadata": {},
     "output_type": "execute_result"
    }
   ],
   "source": [
    "bp_cuisines = bp_cuisines.merge(cuisine_split, how='left', on='unique_id')\n",
    "bp_cuisines.head()"
   ]
  },
  {
   "cell_type": "markdown",
   "metadata": {},
   "source": [
    "* I can get rid of the concatenated `cuisine` column and rename the `cuisine_split` column."
   ]
  },
  {
   "cell_type": "code",
   "execution_count": 11,
   "metadata": {},
   "outputs": [
    {
     "name": "stderr",
     "output_type": "stream",
     "text": [
      "C:\\Users\\szige\\anaconda3\\envs\\ox\\lib\\site-packages\\ipykernel\\ipkernel.py:283: DeprecationWarning: `should_run_async` will not call `transform_cell` automatically in the future. Please pass the result to `transformed_cell` argument and any exception that happen during thetransform in `preprocessing_exc_tuple` in IPython 7.17 and above.\n",
      "  and should_run_async(code)\n"
     ]
    },
    {
     "data": {
      "text/html": [
       "<div>\n",
       "<style scoped>\n",
       "    .dataframe tbody tr th:only-of-type {\n",
       "        vertical-align: middle;\n",
       "    }\n",
       "\n",
       "    .dataframe tbody tr th {\n",
       "        vertical-align: top;\n",
       "    }\n",
       "\n",
       "    .dataframe thead th {\n",
       "        text-align: right;\n",
       "    }\n",
       "</style>\n",
       "<table border=\"1\" class=\"dataframe\">\n",
       "  <thead>\n",
       "    <tr style=\"text-align: right;\">\n",
       "      <th></th>\n",
       "      <th>unique_id</th>\n",
       "      <th>district</th>\n",
       "      <th>cuisine</th>\n",
       "    </tr>\n",
       "  </thead>\n",
       "  <tbody>\n",
       "    <tr>\n",
       "      <th>0</th>\n",
       "      <td>node/339287577</td>\n",
       "      <td>1st District, Budapest, Hungary</td>\n",
       "      <td>burger</td>\n",
       "    </tr>\n",
       "    <tr>\n",
       "      <th>1</th>\n",
       "      <td>node/412953471</td>\n",
       "      <td>1st District, Budapest, Hungary</td>\n",
       "      <td>chinese</td>\n",
       "    </tr>\n",
       "    <tr>\n",
       "      <th>2</th>\n",
       "      <td>node/648549895</td>\n",
       "      <td>1st District, Budapest, Hungary</td>\n",
       "      <td>crepe</td>\n",
       "    </tr>\n",
       "    <tr>\n",
       "      <th>3</th>\n",
       "      <td>node/735178492</td>\n",
       "      <td>1st District, Budapest, Hungary</td>\n",
       "      <td>regional</td>\n",
       "    </tr>\n",
       "    <tr>\n",
       "      <th>4</th>\n",
       "      <td>node/735179122</td>\n",
       "      <td>1st District, Budapest, Hungary</td>\n",
       "      <td>hungarian</td>\n",
       "    </tr>\n",
       "  </tbody>\n",
       "</table>\n",
       "</div>"
      ],
      "text/plain": [
       "        unique_id                         district    cuisine\n",
       "0  node/339287577  1st District, Budapest, Hungary     burger\n",
       "1  node/412953471  1st District, Budapest, Hungary    chinese\n",
       "2  node/648549895  1st District, Budapest, Hungary      crepe\n",
       "3  node/735178492  1st District, Budapest, Hungary   regional\n",
       "4  node/735179122  1st District, Budapest, Hungary  hungarian"
      ]
     },
     "execution_count": 11,
     "metadata": {},
     "output_type": "execute_result"
    }
   ],
   "source": [
    "bp_cuisines = bp_cuisines.drop(columns=['cuisine', 'Unnamed: 0']).rename(columns={'cuisine_split': 'cuisine'})\n",
    "bp_cuisines['cuisine'] = bp_cuisines['cuisine'].str.lower() # some cuisines appear as both lower and uppercase\n",
    "bp_cuisines.head()"
   ]
  },
  {
   "cell_type": "code",
   "execution_count": 12,
   "metadata": {},
   "outputs": [
    {
     "name": "stdout",
     "output_type": "stream",
     "text": [
      "There are 1452 different restaurants in the dataset that serve 1871 cuisines altogether, out of which 130 is unique.\n"
     ]
    },
    {
     "name": "stderr",
     "output_type": "stream",
     "text": [
      "C:\\Users\\szige\\anaconda3\\envs\\ox\\lib\\site-packages\\ipykernel\\ipkernel.py:283: DeprecationWarning: `should_run_async` will not call `transform_cell` automatically in the future. Please pass the result to `transformed_cell` argument and any exception that happen during thetransform in `preprocessing_exc_tuple` in IPython 7.17 and above.\n",
      "  and should_run_async(code)\n"
     ]
    }
   ],
   "source": [
    "print(\n",
    "    'There are {0} different restaurants in the dataset that serve {1} cuisines altogether, out of which {2} is unique.'.format(\n",
    "        len(bp_cuisines['unique_id'].unique()), \n",
    "        bp_cuisines.shape[0], \n",
    "        len(bp_cuisines['cuisine'].unique())\n",
    "    )\n",
    ")"
   ]
  },
  {
   "cell_type": "code",
   "execution_count": 13,
   "metadata": {},
   "outputs": [
    {
     "name": "stdout",
     "output_type": "stream",
     "text": [
      "['afghan', 'african', 'alcohol', 'american', 'arab', 'argentinian', 'asian', 'bagel', 'baklava', 'balkan', 'bangladeshi', 'barbecue', 'bbq', 'beer', 'belgian', 'breakfast', 'burger', 'cafe', 'cake', 'caribbean', 'central_asian', 'chicken', 'chicken slice', 'chimney_cake', 'chinese', 'chips', 'coctail', 'coffee', 'coffee_shop', 'crepe', 'curry', 'deli', 'dessert', 'diner', 'donut', 'drinks', 'falafel', 'fast_food', 'fine_dining', 'fish', 'fish_and_chips', 'food_truck', 'french', 'french fries', 'fried_food', 'fries', 'friture', 'fusion', 'gastropub', 'georgian', 'german', 'greek', 'grill', 'grilled chicken', 'gyros', 'gyros,_hamburger', 'gyros,_hamburger,', 'gyros,burger', 'hamburger', 'hot_dog', 'hotdog', 'hummus', 'hungarian', 'hungarian_food', 'ice_cream', 'indian', 'international', 'irish', 'israeli', 'italian', 'italian_pizza', 'japanese', 'jewish', 'kebab', 'korean', 'langos', 'langosh', 'lebanese', 'local', 'lángos', 'magyar', 'meat', 'mediterranean', 'mexican', 'middle_eastern', 'mongolian', 'noodle', 'noodles', 'olasz', 'oriental', 'pakistani', 'pancake', 'pasta', 'pastry', 'persian', 'pizza', 'pizza,_hamburger,_traditional', 'portuguese', 'ramen', 'regional', 'russian', 'salad', 'salads', 'sandwich', 'sausage', 'scottish', 'seafood', 'serbian', 'snackbar', 'soba', 'soft_drink', 'soke_riders', 'soup', 'spanish', 'steak', 'steak_house', 'street_food', 'strudel', 'sushi', 'syrian', 'tapas', 'tea', 'thai', 'tortilla', 'traditional', 'turkish', 'vietnamese', 'waffle', 'wine', 'wok']\n"
     ]
    }
   ],
   "source": [
    "print(sorted(bp_cuisines['cuisine'].unique()))"
   ]
  },
  {
   "cell_type": "markdown",
   "metadata": {},
   "source": [
    "* I'll create groupings of the columns to give other cuisines a chance of appearing on the map. Asian and Middle Eastern cusines are grouped respectively, and there are some inconsistencies in the types where I'm mapping them back to a larger group (e.g. langos, langosh and lángos all represent the same traditional Hungarian food."
   ]
  },
  {
   "cell_type": "code",
   "execution_count": 14,
   "metadata": {},
   "outputs": [],
   "source": [
    "remap_cuisines = {\n",
    "    'bangladeshi': 'asian', 'bbq': 'barbecue', 'central_asian': 'asian', 'chicken slice': 'chicken',\n",
    "    'chimney_cake': 'hungarian', 'chinese': 'asian', 'coffee': 'cafe', 'coffee_shop': 'cafe', 'curry': 'indian',\n",
    "    'fries': 'french fries', 'gyros,_hamburger': 'gyros', 'gyros,_hamburger,': 'gyros', 'gyros,burger': 'gyros',\n",
    "    'hamburger': 'burger', 'hot_dog': 'hotdog', 'hungarian_food': 'hungarian', 'italian_pizza': 'italian',\n",
    "    'japanese': 'asian', 'korean': 'asian', 'langos': 'hungarian', 'langosh': 'hungarian', 'lángos': 'hungarian',\n",
    "    'magyar': 'hungarian', 'mongolian': 'asian', 'noodle': 'noodles', 'olasz': 'italian', 'oriental': 'asian',\n",
    "    'pizza,_hamburger,_traditional': 'pizza', 'salads': 'salad', 'steak_house': 'steak', 'sushi': 'asian', 'thai': 'asian',\n",
    "    'tapas': 'spanish', 'tortilla': 'spanish', 'vietnamese': 'asian', 'wok': 'asian', 'afghan': 'asian', 'gyros': 'greek',\n",
    "    'grilled chicken': 'grill', 'local': 'hungarian', 'israeli': 'middle_eastern', 'lebanese': 'middle_eastern',\n",
    "    'syrian': 'middle_eastern', 'turkish': 'middle_eastern', 'pizza': 'italian'\n",
    "}"
   ]
  },
  {
   "cell_type": "code",
   "execution_count": 15,
   "metadata": {},
   "outputs": [],
   "source": [
    "bp_cuisines.loc[bp_cuisines['cuisine'].isin(remap_cuisines.keys()), 'cuisine'] = bp_cuisines['cuisine'].map(remap_cuisines)"
   ]
  },
  {
   "cell_type": "code",
   "execution_count": 16,
   "metadata": {},
   "outputs": [
    {
     "name": "stdout",
     "output_type": "stream",
     "text": [
      "['african', 'alcohol', 'american', 'arab', 'argentinian', 'asian', 'bagel', 'baklava', 'balkan', 'barbecue', 'beer', 'belgian', 'breakfast', 'burger', 'cafe', 'cake', 'caribbean', 'chicken', 'chips', 'coctail', 'crepe', 'deli', 'dessert', 'diner', 'donut', 'drinks', 'falafel', 'fast_food', 'fine_dining', 'fish', 'fish_and_chips', 'food_truck', 'french', 'french fries', 'fried_food', 'friture', 'fusion', 'gastropub', 'georgian', 'german', 'greek', 'grill', 'gyros', 'hotdog', 'hummus', 'hungarian', 'ice_cream', 'indian', 'international', 'irish', 'italian', 'jewish', 'kebab', 'meat', 'mediterranean', 'mexican', 'middle_eastern', 'noodles', 'pakistani', 'pancake', 'pasta', 'pastry', 'persian', 'pizza', 'portuguese', 'ramen', 'regional', 'russian', 'salad', 'sandwich', 'sausage', 'scottish', 'seafood', 'serbian', 'snackbar', 'soba', 'soft_drink', 'soke_riders', 'soup', 'spanish', 'steak', 'street_food', 'strudel', 'tea', 'traditional', 'waffle', 'wine']\n"
     ]
    }
   ],
   "source": [
    "print(sorted(bp_cuisines['cuisine'].unique()))"
   ]
  },
  {
   "cell_type": "markdown",
   "metadata": {},
   "source": [
    "* Now I'll create the counts by district and cuisine to see what are the dominant types."
   ]
  },
  {
   "cell_type": "code",
   "execution_count": 17,
   "metadata": {},
   "outputs": [],
   "source": [
    "bp_cuisine_counts = bp_cuisines.groupby(['district', 'cuisine']).size().to_frame(name='count').reset_index()"
   ]
  },
  {
   "cell_type": "markdown",
   "metadata": {},
   "source": [
    "* Let's see an example for the 5th District (downtown Budapest):"
   ]
  },
  {
   "cell_type": "code",
   "execution_count": 18,
   "metadata": {},
   "outputs": [
    {
     "data": {
      "text/html": [
       "<div>\n",
       "<style scoped>\n",
       "    .dataframe tbody tr th:only-of-type {\n",
       "        vertical-align: middle;\n",
       "    }\n",
       "\n",
       "    .dataframe tbody tr th {\n",
       "        vertical-align: top;\n",
       "    }\n",
       "\n",
       "    .dataframe thead th {\n",
       "        text-align: right;\n",
       "    }\n",
       "</style>\n",
       "<table border=\"1\" class=\"dataframe\">\n",
       "  <thead>\n",
       "    <tr style=\"text-align: right;\">\n",
       "      <th></th>\n",
       "      <th>district</th>\n",
       "      <th>cuisine</th>\n",
       "      <th>count</th>\n",
       "    </tr>\n",
       "  </thead>\n",
       "  <tbody>\n",
       "    <tr>\n",
       "      <th>288</th>\n",
       "      <td>5th District, Budapest, Hungary</td>\n",
       "      <td>hungarian</td>\n",
       "      <td>48</td>\n",
       "    </tr>\n",
       "    <tr>\n",
       "      <th>292</th>\n",
       "      <td>5th District, Budapest, Hungary</td>\n",
       "      <td>italian</td>\n",
       "      <td>34</td>\n",
       "    </tr>\n",
       "    <tr>\n",
       "      <th>276</th>\n",
       "      <td>5th District, Budapest, Hungary</td>\n",
       "      <td>asian</td>\n",
       "      <td>32</td>\n",
       "    </tr>\n",
       "    <tr>\n",
       "      <th>300</th>\n",
       "      <td>5th District, Budapest, Hungary</td>\n",
       "      <td>regional</td>\n",
       "      <td>19</td>\n",
       "    </tr>\n",
       "    <tr>\n",
       "      <th>278</th>\n",
       "      <td>5th District, Budapest, Hungary</td>\n",
       "      <td>burger</td>\n",
       "      <td>15</td>\n",
       "    </tr>\n",
       "  </tbody>\n",
       "</table>\n",
       "</div>"
      ],
      "text/plain": [
       "                            district    cuisine  count\n",
       "288  5th District, Budapest, Hungary  hungarian     48\n",
       "292  5th District, Budapest, Hungary    italian     34\n",
       "276  5th District, Budapest, Hungary      asian     32\n",
       "300  5th District, Budapest, Hungary   regional     19\n",
       "278  5th District, Budapest, Hungary     burger     15"
      ]
     },
     "execution_count": 18,
     "metadata": {},
     "output_type": "execute_result"
    }
   ],
   "source": [
    "bp_cuisine_counts[\n",
    "    bp_cuisine_counts['district'] == '5th District, Budapest, Hungary'\n",
    "].sort_values('count', ascending=False).head()"
   ]
  },
  {
   "cell_type": "markdown",
   "metadata": {},
   "source": [
    "Hungarian is the dominant cuisine here, with Italian and Asian barely behind. For the final map I'll only need top cuisines from each district.\n",
    "\n",
    "In case the first place is shared, I'll use a pseudo-category, \"mixed\"."
   ]
  },
  {
   "cell_type": "code",
   "execution_count": 19,
   "metadata": {},
   "outputs": [
    {
     "name": "stderr",
     "output_type": "stream",
     "text": [
      "C:\\Users\\szige\\anaconda3\\envs\\ox\\lib\\site-packages\\ipykernel\\ipkernel.py:283: DeprecationWarning: `should_run_async` will not call `transform_cell` automatically in the future. Please pass the result to `transformed_cell` argument and any exception that happen during thetransform in `preprocessing_exc_tuple` in IPython 7.17 and above.\n",
      "  and should_run_async(code)\n"
     ]
    },
    {
     "data": {
      "text/html": [
       "<div>\n",
       "<style scoped>\n",
       "    .dataframe tbody tr th:only-of-type {\n",
       "        vertical-align: middle;\n",
       "    }\n",
       "\n",
       "    .dataframe tbody tr th {\n",
       "        vertical-align: top;\n",
       "    }\n",
       "\n",
       "    .dataframe thead th {\n",
       "        text-align: right;\n",
       "    }\n",
       "</style>\n",
       "<table border=\"1\" class=\"dataframe\">\n",
       "  <thead>\n",
       "    <tr style=\"text-align: right;\">\n",
       "      <th></th>\n",
       "      <th>district</th>\n",
       "      <th>cuisine</th>\n",
       "      <th>count</th>\n",
       "    </tr>\n",
       "  </thead>\n",
       "  <tbody>\n",
       "    <tr>\n",
       "      <th>1</th>\n",
       "      <td>10th District, Budapest, Hungary</td>\n",
       "      <td>burger</td>\n",
       "      <td>9</td>\n",
       "    </tr>\n",
       "    <tr>\n",
       "      <th>29</th>\n",
       "      <td>11th District, Budapest, Hungary</td>\n",
       "      <td>italian</td>\n",
       "      <td>32</td>\n",
       "    </tr>\n",
       "    <tr>\n",
       "      <th>49</th>\n",
       "      <td>12th District, Budapest, Hungary</td>\n",
       "      <td>asian</td>\n",
       "      <td>9</td>\n",
       "    </tr>\n",
       "    <tr>\n",
       "      <th>64</th>\n",
       "      <td>13th District, Budapest, Hungary</td>\n",
       "      <td>asian</td>\n",
       "      <td>30</td>\n",
       "    </tr>\n",
       "    <tr>\n",
       "      <th>95</th>\n",
       "      <td>14th District, Budapest, Hungary</td>\n",
       "      <td>italian</td>\n",
       "      <td>16</td>\n",
       "    </tr>\n",
       "  </tbody>\n",
       "</table>\n",
       "</div>"
      ],
      "text/plain": [
       "                            district  cuisine  count\n",
       "1   10th District, Budapest, Hungary   burger      9\n",
       "29  11th District, Budapest, Hungary  italian     32\n",
       "49  12th District, Budapest, Hungary    asian      9\n",
       "64  13th District, Budapest, Hungary    asian     30\n",
       "95  14th District, Budapest, Hungary  italian     16"
      ]
     },
     "execution_count": 19,
     "metadata": {},
     "output_type": "execute_result"
    }
   ],
   "source": [
    "max_indices = bp_cuisine_counts.groupby('district')['count'].transform(max) == bp_cuisine_counts['count']\n",
    "bp_cuisine_counts[max_indices].sort_values('district').head()"
   ]
  },
  {
   "cell_type": "code",
   "execution_count": 20,
   "metadata": {},
   "outputs": [
    {
     "name": "stderr",
     "output_type": "stream",
     "text": [
      "C:\\Users\\szige\\anaconda3\\envs\\ox\\lib\\site-packages\\ipykernel\\ipkernel.py:283: DeprecationWarning: `should_run_async` will not call `transform_cell` automatically in the future. Please pass the result to `transformed_cell` argument and any exception that happen during thetransform in `preprocessing_exc_tuple` in IPython 7.17 and above.\n",
      "  and should_run_async(code)\n"
     ]
    },
    {
     "data": {
      "text/html": [
       "<div>\n",
       "<style scoped>\n",
       "    .dataframe tbody tr th:only-of-type {\n",
       "        vertical-align: middle;\n",
       "    }\n",
       "\n",
       "    .dataframe tbody tr th {\n",
       "        vertical-align: top;\n",
       "    }\n",
       "\n",
       "    .dataframe thead th {\n",
       "        text-align: right;\n",
       "    }\n",
       "</style>\n",
       "<table border=\"1\" class=\"dataframe\">\n",
       "  <thead>\n",
       "    <tr style=\"text-align: right;\">\n",
       "      <th></th>\n",
       "      <th>district</th>\n",
       "      <th>count</th>\n",
       "      <th>cuisine</th>\n",
       "    </tr>\n",
       "  </thead>\n",
       "  <tbody>\n",
       "    <tr>\n",
       "      <th>0</th>\n",
       "      <td>10th District, Budapest, Hungary</td>\n",
       "      <td>9</td>\n",
       "      <td>burger</td>\n",
       "    </tr>\n",
       "    <tr>\n",
       "      <th>1</th>\n",
       "      <td>11th District, Budapest, Hungary</td>\n",
       "      <td>32</td>\n",
       "      <td>italian</td>\n",
       "    </tr>\n",
       "    <tr>\n",
       "      <th>2</th>\n",
       "      <td>12th District, Budapest, Hungary</td>\n",
       "      <td>9</td>\n",
       "      <td>asian</td>\n",
       "    </tr>\n",
       "    <tr>\n",
       "      <th>3</th>\n",
       "      <td>13th District, Budapest, Hungary</td>\n",
       "      <td>30</td>\n",
       "      <td>asian</td>\n",
       "    </tr>\n",
       "    <tr>\n",
       "      <th>4</th>\n",
       "      <td>14th District, Budapest, Hungary</td>\n",
       "      <td>16</td>\n",
       "      <td>italian</td>\n",
       "    </tr>\n",
       "    <tr>\n",
       "      <th>5</th>\n",
       "      <td>15th District, Budapest, Hungary</td>\n",
       "      <td>9</td>\n",
       "      <td>italian</td>\n",
       "    </tr>\n",
       "    <tr>\n",
       "      <th>6</th>\n",
       "      <td>16th District, Budapest, Hungary</td>\n",
       "      <td>6</td>\n",
       "      <td>italian</td>\n",
       "    </tr>\n",
       "    <tr>\n",
       "      <th>7</th>\n",
       "      <td>17th District, Budapest, Hungary</td>\n",
       "      <td>7</td>\n",
       "      <td>burger</td>\n",
       "    </tr>\n",
       "    <tr>\n",
       "      <th>8</th>\n",
       "      <td>18th District, Budapest, Hungary</td>\n",
       "      <td>8</td>\n",
       "      <td>burger</td>\n",
       "    </tr>\n",
       "    <tr>\n",
       "      <th>9</th>\n",
       "      <td>19th District, Budapest, Hungary</td>\n",
       "      <td>5</td>\n",
       "      <td>italian</td>\n",
       "    </tr>\n",
       "    <tr>\n",
       "      <th>10</th>\n",
       "      <td>1st District, Budapest, Hungary</td>\n",
       "      <td>14</td>\n",
       "      <td>regional</td>\n",
       "    </tr>\n",
       "    <tr>\n",
       "      <th>11</th>\n",
       "      <td>20th District, Budapest, Hungary</td>\n",
       "      <td>1</td>\n",
       "      <td>mixed</td>\n",
       "    </tr>\n",
       "    <tr>\n",
       "      <th>12</th>\n",
       "      <td>21st District, Budapest, Hungary</td>\n",
       "      <td>30</td>\n",
       "      <td>regional</td>\n",
       "    </tr>\n",
       "    <tr>\n",
       "      <th>13</th>\n",
       "      <td>22nd District, Budapest, Hungary</td>\n",
       "      <td>6</td>\n",
       "      <td>mixed</td>\n",
       "    </tr>\n",
       "    <tr>\n",
       "      <th>14</th>\n",
       "      <td>23rd District, Budapest, Hungary</td>\n",
       "      <td>7</td>\n",
       "      <td>regional</td>\n",
       "    </tr>\n",
       "    <tr>\n",
       "      <th>15</th>\n",
       "      <td>2nd District, Budapest, Hungary</td>\n",
       "      <td>25</td>\n",
       "      <td>italian</td>\n",
       "    </tr>\n",
       "    <tr>\n",
       "      <th>16</th>\n",
       "      <td>3rd District, Budapest, Hungary</td>\n",
       "      <td>88</td>\n",
       "      <td>regional</td>\n",
       "    </tr>\n",
       "    <tr>\n",
       "      <th>17</th>\n",
       "      <td>4th District, Budapest, Hungary</td>\n",
       "      <td>9</td>\n",
       "      <td>regional</td>\n",
       "    </tr>\n",
       "    <tr>\n",
       "      <th>18</th>\n",
       "      <td>5th District, Budapest, Hungary</td>\n",
       "      <td>48</td>\n",
       "      <td>hungarian</td>\n",
       "    </tr>\n",
       "    <tr>\n",
       "      <th>19</th>\n",
       "      <td>6th District, Budapest, Hungary</td>\n",
       "      <td>23</td>\n",
       "      <td>asian</td>\n",
       "    </tr>\n",
       "    <tr>\n",
       "      <th>20</th>\n",
       "      <td>7th District, Budapest, Hungary</td>\n",
       "      <td>27</td>\n",
       "      <td>asian</td>\n",
       "    </tr>\n",
       "    <tr>\n",
       "      <th>21</th>\n",
       "      <td>8th District, Budapest, Hungary</td>\n",
       "      <td>18</td>\n",
       "      <td>italian</td>\n",
       "    </tr>\n",
       "    <tr>\n",
       "      <th>22</th>\n",
       "      <td>9th District, Budapest, Hungary</td>\n",
       "      <td>22</td>\n",
       "      <td>asian</td>\n",
       "    </tr>\n",
       "  </tbody>\n",
       "</table>\n",
       "</div>"
      ],
      "text/plain": [
       "                            district  count    cuisine\n",
       "0   10th District, Budapest, Hungary      9     burger\n",
       "1   11th District, Budapest, Hungary     32    italian\n",
       "2   12th District, Budapest, Hungary      9      asian\n",
       "3   13th District, Budapest, Hungary     30      asian\n",
       "4   14th District, Budapest, Hungary     16    italian\n",
       "5   15th District, Budapest, Hungary      9    italian\n",
       "6   16th District, Budapest, Hungary      6    italian\n",
       "7   17th District, Budapest, Hungary      7     burger\n",
       "8   18th District, Budapest, Hungary      8     burger\n",
       "9   19th District, Budapest, Hungary      5    italian\n",
       "10   1st District, Budapest, Hungary     14   regional\n",
       "11  20th District, Budapest, Hungary      1      mixed\n",
       "12  21st District, Budapest, Hungary     30   regional\n",
       "13  22nd District, Budapest, Hungary      6      mixed\n",
       "14  23rd District, Budapest, Hungary      7   regional\n",
       "15   2nd District, Budapest, Hungary     25    italian\n",
       "16   3rd District, Budapest, Hungary     88   regional\n",
       "17   4th District, Budapest, Hungary      9   regional\n",
       "18   5th District, Budapest, Hungary     48  hungarian\n",
       "19   6th District, Budapest, Hungary     23      asian\n",
       "20   7th District, Budapest, Hungary     27      asian\n",
       "21   8th District, Budapest, Hungary     18    italian\n",
       "22   9th District, Budapest, Hungary     22      asian"
      ]
     },
     "execution_count": 20,
     "metadata": {},
     "output_type": "execute_result"
    }
   ],
   "source": [
    "bp_cuisine_indiv_counts = bp_cuisine_counts[max_indices].groupby(['district', 'count'])['cuisine'].apply(', '.join).reset_index()\n",
    "bp_cuisine_indiv_counts.loc[bp_cuisine_indiv_counts['cuisine'].str.contains(','), 'cuisine'] = 'mixed'\n",
    "bp_cuisine_indiv_counts"
   ]
  },
  {
   "cell_type": "markdown",
   "metadata": {},
   "source": [
    "### Visualization\n",
    "Now that I have the dominant cuisines for each district of Budapest, I can plot them on a map. To get the boundaries for the districts, I'm using the previously created `budapest_districts` and using the `osmnx` package."
   ]
  },
  {
   "cell_type": "code",
   "execution_count": 21,
   "metadata": {},
   "outputs": [
    {
     "name": "stderr",
     "output_type": "stream",
     "text": [
      "C:\\Users\\szige\\anaconda3\\envs\\ox\\lib\\site-packages\\ipykernel\\ipkernel.py:283: DeprecationWarning: `should_run_async` will not call `transform_cell` automatically in the future. Please pass the result to `transformed_cell` argument and any exception that happen during thetransform in `preprocessing_exc_tuple` in IPython 7.17 and above.\n",
      "  and should_run_async(code)\n"
     ]
    },
    {
     "data": {
      "text/html": [
       "<div>\n",
       "<style scoped>\n",
       "    .dataframe tbody tr th:only-of-type {\n",
       "        vertical-align: middle;\n",
       "    }\n",
       "\n",
       "    .dataframe tbody tr th {\n",
       "        vertical-align: top;\n",
       "    }\n",
       "\n",
       "    .dataframe thead th {\n",
       "        text-align: right;\n",
       "    }\n",
       "</style>\n",
       "<table border=\"1\" class=\"dataframe\">\n",
       "  <thead>\n",
       "    <tr style=\"text-align: right;\">\n",
       "      <th></th>\n",
       "      <th>geometry</th>\n",
       "      <th>bbox_north</th>\n",
       "      <th>bbox_south</th>\n",
       "      <th>bbox_east</th>\n",
       "      <th>bbox_west</th>\n",
       "      <th>place_id</th>\n",
       "      <th>osm_type</th>\n",
       "      <th>osm_id</th>\n",
       "      <th>lat</th>\n",
       "      <th>lon</th>\n",
       "      <th>display_name</th>\n",
       "      <th>class</th>\n",
       "      <th>type</th>\n",
       "      <th>importance</th>\n",
       "    </tr>\n",
       "  </thead>\n",
       "  <tbody>\n",
       "    <tr>\n",
       "      <th>0</th>\n",
       "      <td>POLYGON ((351152.454 5262145.823, 351152.624 5...</td>\n",
       "      <td>47.508074</td>\n",
       "      <td>47.485671</td>\n",
       "      <td>19.051307</td>\n",
       "      <td>19.023753</td>\n",
       "      <td>257730580</td>\n",
       "      <td>relation</td>\n",
       "      <td>221984</td>\n",
       "      <td>47.499163</td>\n",
       "      <td>19.035143</td>\n",
       "      <td>1st district, Budapest, Central Hungary, Hungary</td>\n",
       "      <td>boundary</td>\n",
       "      <td>administrative</td>\n",
       "      <td>0.839111</td>\n",
       "    </tr>\n",
       "  </tbody>\n",
       "</table>\n",
       "</div>"
      ],
      "text/plain": [
       "                                            geometry  bbox_north  bbox_south  \\\n",
       "0  POLYGON ((351152.454 5262145.823, 351152.624 5...   47.508074   47.485671   \n",
       "\n",
       "   bbox_east  bbox_west   place_id  osm_type  osm_id        lat        lon  \\\n",
       "0  19.051307  19.023753  257730580  relation  221984  47.499163  19.035143   \n",
       "\n",
       "                                       display_name     class            type  \\\n",
       "0  1st district, Budapest, Central Hungary, Hungary  boundary  administrative   \n",
       "\n",
       "   importance  \n",
       "0    0.839111  "
      ]
     },
     "execution_count": 21,
     "metadata": {},
     "output_type": "execute_result"
    }
   ],
   "source": [
    "districts = ox.project_gdf(ox.geocode_to_gdf(budapest_districts))\n",
    "districts.head(1)"
   ]
  },
  {
   "cell_type": "markdown",
   "metadata": {},
   "source": [
    "The `display_name` column is not quite in the same format as our list, so for the join to work, I have to slightly modify its values."
   ]
  },
  {
   "cell_type": "code",
   "execution_count": 22,
   "metadata": {},
   "outputs": [
    {
     "name": "stderr",
     "output_type": "stream",
     "text": [
      "C:\\Users\\szige\\anaconda3\\envs\\ox\\lib\\site-packages\\ipykernel\\ipkernel.py:283: DeprecationWarning: `should_run_async` will not call `transform_cell` automatically in the future. Please pass the result to `transformed_cell` argument and any exception that happen during thetransform in `preprocessing_exc_tuple` in IPython 7.17 and above.\n",
      "  and should_run_async(code)\n"
     ]
    }
   ],
   "source": [
    "districts['display_name'] = districts['display_name'].str.replace('district', 'District').str.replace('Central Hungary, ', '')"
   ]
  },
  {
   "cell_type": "code",
   "execution_count": 23,
   "metadata": {},
   "outputs": [
    {
     "data": {
      "text/html": [
       "<div>\n",
       "<style scoped>\n",
       "    .dataframe tbody tr th:only-of-type {\n",
       "        vertical-align: middle;\n",
       "    }\n",
       "\n",
       "    .dataframe tbody tr th {\n",
       "        vertical-align: top;\n",
       "    }\n",
       "\n",
       "    .dataframe thead th {\n",
       "        text-align: right;\n",
       "    }\n",
       "</style>\n",
       "<table border=\"1\" class=\"dataframe\">\n",
       "  <thead>\n",
       "    <tr style=\"text-align: right;\">\n",
       "      <th></th>\n",
       "      <th>geometry</th>\n",
       "      <th>bbox_north</th>\n",
       "      <th>bbox_south</th>\n",
       "      <th>bbox_east</th>\n",
       "      <th>bbox_west</th>\n",
       "      <th>place_id</th>\n",
       "      <th>osm_type</th>\n",
       "      <th>osm_id</th>\n",
       "      <th>lat</th>\n",
       "      <th>lon</th>\n",
       "      <th>display_name</th>\n",
       "      <th>class</th>\n",
       "      <th>type</th>\n",
       "      <th>importance</th>\n",
       "      <th>district</th>\n",
       "      <th>count</th>\n",
       "      <th>cuisine</th>\n",
       "    </tr>\n",
       "  </thead>\n",
       "  <tbody>\n",
       "    <tr>\n",
       "      <th>0</th>\n",
       "      <td>POLYGON ((351152.454 5262145.823, 351152.624 5...</td>\n",
       "      <td>47.508074</td>\n",
       "      <td>47.485671</td>\n",
       "      <td>19.051307</td>\n",
       "      <td>19.023753</td>\n",
       "      <td>257730580</td>\n",
       "      <td>relation</td>\n",
       "      <td>221984</td>\n",
       "      <td>47.499163</td>\n",
       "      <td>19.035143</td>\n",
       "      <td>1st District, Budapest, Hungary</td>\n",
       "      <td>boundary</td>\n",
       "      <td>administrative</td>\n",
       "      <td>0.839111</td>\n",
       "      <td>1st District, Budapest, Hungary</td>\n",
       "      <td>14</td>\n",
       "      <td>regional</td>\n",
       "    </tr>\n",
       "  </tbody>\n",
       "</table>\n",
       "</div>"
      ],
      "text/plain": [
       "                                            geometry  bbox_north  bbox_south  \\\n",
       "0  POLYGON ((351152.454 5262145.823, 351152.624 5...   47.508074   47.485671   \n",
       "\n",
       "   bbox_east  bbox_west   place_id  osm_type  osm_id        lat        lon  \\\n",
       "0  19.051307  19.023753  257730580  relation  221984  47.499163  19.035143   \n",
       "\n",
       "                      display_name     class            type  importance  \\\n",
       "0  1st District, Budapest, Hungary  boundary  administrative    0.839111   \n",
       "\n",
       "                          district  count   cuisine  \n",
       "0  1st District, Budapest, Hungary     14  regional  "
      ]
     },
     "execution_count": 23,
     "metadata": {},
     "output_type": "execute_result"
    }
   ],
   "source": [
    "districts_enriched = districts.merge(bp_cuisine_indiv_counts, how='left', left_on='display_name', right_on='district')\n",
    "districts_enriched.head(1)"
   ]
  },
  {
   "cell_type": "markdown",
   "metadata": {},
   "source": [
    "Now I have the boundaries for each district and the dominant cuisine for each and every one of them. I could use this same dataset with some modifications to show e.g. which district has the highest density of places where you can get Italian food, but for this simple excercise, I'll just stick with the original question."
   ]
  },
  {
   "cell_type": "code",
   "execution_count": 24,
   "metadata": {},
   "outputs": [
    {
     "name": "stderr",
     "output_type": "stream",
     "text": [
      "C:\\Users\\szige\\anaconda3\\envs\\ox\\lib\\site-packages\\ipykernel\\ipkernel.py:283: DeprecationWarning: `should_run_async` will not call `transform_cell` automatically in the future. Please pass the result to `transformed_cell` argument and any exception that happen during thetransform in `preprocessing_exc_tuple` in IPython 7.17 and above.\n",
      "  and should_run_async(code)\n"
     ]
    },
    {
     "data": {
      "image/png": "[encoded data removed]",
      "text/plain": [
       "<Figure size 432x288 with 1 Axes>"
      ]
     },
     "metadata": {
      "needs_background": "light"
     },
     "output_type": "display_data"
    }
   ],
   "source": [
    "_ = districts_enriched.plot(column='cuisine', cmap='Pastel2', edgecolor='black', legend=True)\n",
    "_ = plt.title('Most popular cuisines in each district of Budapest, Hungary')\n",
    "_ = plt.axis('off')\n",
    "_ = plt.savefig('bp_cuisines.png', dpi=199)\n",
    "plt.show()"
   ]
  },
  {
   "cell_type": "markdown",
   "metadata": {},
   "source": [
    "It's interesting to see how dominant Italian food is, with Asian food standing strong in the middle of the city. Interestingly, Hungarian food is only dominant in one out of the 23 districts, right in the heart of the capital."
   ]
  },
  {
   "cell_type": "code",
   "execution_count": null,
   "metadata": {},
   "outputs": [],
   "source": []
  }
 ],
 "metadata": {
  "kernelspec": {
   "display_name": "Python 3",
   "language": "python",
   "name": "python3"
  },
  "language_info": {
   "codemirror_mode": {
    "name": "ipython",
    "version": 3
   },
   "file_extension": ".py",
   "mimetype": "text/x-python",
   "name": "python",
   "nbconvert_exporter": "python",
   "pygments_lexer": "ipython3",
   "version": "3.9.1"
  }
 },
 "nbformat": 4,
 "nbformat_minor": 2
}
